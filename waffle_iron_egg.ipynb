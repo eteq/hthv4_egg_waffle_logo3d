{
 "cells": [
  {
   "cell_type": "code",
   "execution_count": 3,
   "metadata": {},
   "outputs": [],
   "source": [
    "from build123d import *"
   ]
  },
  {
   "cell_type": "code",
   "execution_count": null,
   "metadata": {},
   "outputs": [],
   "source": [
    "# you can skip this cell if you're not using vs code with the ocp viewer extension\n",
    "from ocp_vscode import *\n",
    "set_port(3939)"
   ]
  },
  {
   "cell_type": "code",
   "execution_count": 11,
   "metadata": {},
   "outputs": [],
   "source": [
    "iron_height = 20\n",
    "iron_width = 80"
   ]
  },
  {
   "cell_type": "code",
   "execution_count": 13,
   "metadata": {},
   "outputs": [
    {
     "name": "stdout",
     "output_type": "stream",
     "text": [
      "+"
     ]
    }
   ],
   "source": [
    "waffle_half = Box(iron_width, iron_width, iron_height)\n",
    "\n",
    "\n",
    "show(waffle_half)"
   ]
  },
  {
   "cell_type": "code",
   "execution_count": 30,
   "metadata": {},
   "outputs": [
    {
     "name": "stdout",
     "output_type": "stream",
     "text": [
      "c"
     ]
    }
   ],
   "source": [
    "waffle_shrink_ratio = .8\n",
    "waffle_height_ratio = 2\n",
    "bottom = Rectangle(1, 1)\n",
    "top = Rectangle(waffle_shrink_ratio, waffle_shrink_ratio)\n",
    "waffle_nub = loft([bottom, Pos(0,0, waffle_height_ratio)*top])\n",
    "\n",
    "show(waffle_nub)"
   ]
  },
  {
   "cell_type": "code",
   "execution_count": 38,
   "metadata": {},
   "outputs": [
    {
     "name": "stdout",
     "output_type": "stream",
     "text": [
      "+"
     ]
    }
   ],
   "source": [
    "top_fillet = .2\n",
    "side_fillet = .1\n",
    "\n",
    "waffle_nub = fillet(waffle_nub.edges().group_by()[-1], top_fillet)\n",
    "waffle_nub = fillet(waffle_nub.edges().group_by()[1], side_fillet)\n",
    "\n",
    "show(waffle_nub)\n"
   ]
  },
  {
   "cell_type": "code",
   "execution_count": null,
   "metadata": {},
   "outputs": [],
   "source": []
  }
 ],
 "metadata": {
  "kernelspec": {
   "display_name": "default",
   "language": "python",
   "name": "python3"
  },
  "language_info": {
   "codemirror_mode": {
    "name": "ipython",
    "version": 3
   },
   "file_extension": ".py",
   "mimetype": "text/x-python",
   "name": "python",
   "nbconvert_exporter": "python",
   "pygments_lexer": "ipython3",
   "version": "3.12.2"
  }
 },
 "nbformat": 4,
 "nbformat_minor": 2
}
