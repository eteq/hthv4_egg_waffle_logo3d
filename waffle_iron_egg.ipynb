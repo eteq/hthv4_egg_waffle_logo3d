{
 "cells": [
  {
   "cell_type": "code",
   "execution_count": 1,
   "metadata": {},
   "outputs": [],
   "source": [
    "from copy import deepcopy\n",
    "\n",
    "import numpy as np"
   ]
  },
  {
   "cell_type": "code",
   "execution_count": 2,
   "metadata": {},
   "outputs": [],
   "source": [
    "from build123d import *"
   ]
  },
  {
   "cell_type": "code",
   "execution_count": 3,
   "metadata": {},
   "outputs": [],
   "source": [
    "# you can skip this cell if you're not using vs code with the ocp viewer extension\n",
    "from ocp_vscode import *\n",
    "set_port(3939)"
   ]
  },
  {
   "cell_type": "code",
   "execution_count": 4,
   "metadata": {},
   "outputs": [
    {
     "name": "stdout",
     "output_type": "stream",
     "text": [
      "+"
     ]
    }
   ],
   "source": [
    "waffle_shrink_ratio = .8\n",
    "waffle_height_ratio = 1.2\n",
    "bottom = Rectangle(1, 1)\n",
    "top = Rectangle(waffle_shrink_ratio, waffle_shrink_ratio)\n",
    "waffle_nub = loft([bottom, Pos(0,0, waffle_height_ratio)*top])\n",
    "\n",
    "show(waffle_nub)"
   ]
  },
  {
   "cell_type": "code",
   "execution_count": 5,
   "metadata": {},
   "outputs": [
    {
     "name": "stdout",
     "output_type": "stream",
     "text": [
      "+"
     ]
    }
   ],
   "source": [
    "top_fillet = .2\n",
    "side_fillet = .1\n",
    "\n",
    "waffle_nub = fillet(waffle_nub.edges().group_by()[-1], top_fillet)\n",
    "waffle_nub = fillet(waffle_nub.edges().group_by()[1], side_fillet)\n",
    "\n",
    "show(waffle_nub)\n"
   ]
  },
  {
   "cell_type": "code",
   "execution_count": 6,
   "metadata": {},
   "outputs": [
    {
     "name": "stdout",
     "output_type": "stream",
     "text": [
      "+"
     ]
    }
   ],
   "source": [
    "iron_height = 20\n",
    "iron_width = 80\n",
    "\n",
    "waffle_half = Box(iron_width, iron_width, iron_height)\n",
    "\n",
    "show(waffle_half)"
   ]
  },
  {
   "cell_type": "code",
   "execution_count": 7,
   "metadata": {},
   "outputs": [],
   "source": [
    "waffle_grid_n = 5\n",
    "empty_fraction = .2\n",
    "nub_height_factor = .7\n",
    "\n",
    "nub_spacing = iron_width / waffle_grid_n\n",
    "\n",
    "empty_spacing = empty_fraction*nub_spacing\n",
    "nub_scale = iron_width/ waffle_grid_n - empty_spacing\n",
    "rescaled_nub = scale(waffle_nub, (nub_scale, nub_scale, nub_height_factor * iron_height/waffle_height_ratio))"
   ]
  },
  {
   "cell_type": "code",
   "execution_count": 8,
   "metadata": {},
   "outputs": [
    {
     "data": {
      "text/plain": [
       "array([-1. , -0.5,  0. ,  0.5,  1. ])"
      ]
     },
     "execution_count": 8,
     "metadata": {},
     "output_type": "execute_result"
    }
   ],
   "source": [
    "np.linspace(-1, 1, 5)"
   ]
  },
  {
   "cell_type": "code",
   "execution_count": 9,
   "metadata": {},
   "outputs": [
    {
     "name": "stdout",
     "output_type": "stream",
     "text": [
      "+"
     ]
    }
   ],
   "source": [
    "waffle_w_nubs = deepcopy(waffle_half)\n",
    "\n",
    "for i in np.linspace(-1, 1, waffle_grid_n):\n",
    "    x = i * (iron_width-nub_spacing)/2\n",
    "    for j in np.linspace(-1, 1, waffle_grid_n):\n",
    "        y = j * (iron_width-nub_spacing)/2\n",
    "\n",
    "        waffle_w_nubs += Pos(x, y, iron_height/2) * rescaled_nub\n",
    "        \n",
    "show(waffle_w_nubs)"
   ]
  },
  {
   "cell_type": "code",
   "execution_count": 10,
   "metadata": {},
   "outputs": [
    {
     "name": "stdout",
     "output_type": "stream",
     "text": [
      "+"
     ]
    }
   ],
   "source": [
    "outer_edge_width = 5\n",
    "\n",
    "outer_edge_box_height = iron_height + nub_height_factor * iron_height * .9\n",
    "outer_edge_box = Box(iron_width + outer_edge_width*2, \n",
    "                    iron_width + outer_edge_width*2, \n",
    "                    outer_edge_box_height)\n",
    "outer_edge_cut_box = Box(iron_width, \n",
    "                         iron_width, \n",
    "                         outer_edge_box_height)\n",
    "outer_edge_box = outer_edge_box - outer_edge_cut_box\n",
    "show(outer_edge_box)"
   ]
  },
  {
   "cell_type": "code",
   "execution_count": 11,
   "metadata": {},
   "outputs": [
    {
     "name": "stdout",
     "output_type": "stream",
     "text": [
      "+"
     ]
    }
   ],
   "source": [
    "waffle_boxed = waffle_w_nubs + Pos(0, 0, (outer_edge_box_height - iron_height)/2)*outer_edge_box\n",
    "show(waffle_boxed)"
   ]
  },
  {
   "cell_type": "code",
   "execution_count": 12,
   "metadata": {},
   "outputs": [
    {
     "name": "stdout",
     "output_type": "stream",
     "text": [
      "+"
     ]
    }
   ],
   "source": [
    "egg_height = 25\n",
    "\n",
    "eggface = make_face(ThreePointArc((0,0,0), (0,egg_height/3,egg_height/3), (0,0,egg_height)))\n",
    "egg = revolve(eggface)\n",
    "show(egg)"
   ]
  },
  {
   "cell_type": "code",
   "execution_count": 13,
   "metadata": {},
   "outputs": [
    {
     "name": "stdout",
     "output_type": "stream",
     "text": [
      "+"
     ]
    }
   ],
   "source": [
    "waffle_egged = waffle_boxed + Pos(-iron_width/4, -iron_width/4, iron_height/3)*egg\n",
    "\n",
    "show(waffle_egged)"
   ]
  },
  {
   "cell_type": "markdown",
   "metadata": {},
   "source": [
    "Sealion is from https://www.thingiverse.com/thing:1092482 - native file doesn't work but loading in freecad and then re-exporting works. But note the sealion import takes ~10 min"
   ]
  },
  {
   "cell_type": "code",
   "execution_count": 24,
   "metadata": {},
   "outputs": [],
   "source": [
    "importer = Mesher()\n",
    "sealion = importer.read(\"SeaLionFlatUnderside-reexp.stl\")[0]"
   ]
  },
  {
   "cell_type": "code",
   "execution_count": 30,
   "metadata": {},
   "outputs": [],
   "source": [
    "offset = sealion.center()\n",
    "offset.X *= -1\n",
    "offset.Y *= -1\n",
    "offset.Z = -10\n",
    "centered_sealion = Pos(offset)*sealion"
   ]
  },
  {
   "cell_type": "markdown",
   "metadata": {},
   "source": [
    "By-eye inspection shows the base is at 10mm, although the other dimensions are a bit confusingly centered."
   ]
  },
  {
   "cell_type": "code",
   "execution_count": 45,
   "metadata": {},
   "outputs": [],
   "source": [
    "sealion_size = 50\n",
    "rescaled_sealion = centered_sealion.scale(sealion_size/max(centered_sealion.bounding_box().size))"
   ]
  },
  {
   "cell_type": "code",
   "execution_count": 52,
   "metadata": {},
   "outputs": [],
   "source": [
    "adjusted_sealion = Pos(iron_width/5, iron_width/5, iron_height/2) * Rot(Z=135) * rescaled_sealion"
   ]
  },
  {
   "cell_type": "code",
   "execution_count": 53,
   "metadata": {},
   "outputs": [
    {
     "name": "stderr",
     "output_type": "stream",
     "text": [
      "/home/erik/3dprinting/hthv4_logo3d/.pixi/envs/default/lib/python3.12/site-packages/build123d/topology.py:1784: UserWarning: Unable to clean Compound at 0x725af309ed80, label(), #children(0)\n",
      "  warnings.warn(f\"Unable to clean {self}\")\n"
     ]
    }
   ],
   "source": [
    "waffle_sealion = waffle_egged + adjusted_sealion"
   ]
  },
  {
   "cell_type": "code",
   "execution_count": 54,
   "metadata": {},
   "outputs": [
    {
     "name": "stdout",
     "output_type": "stream",
     "text": [
      "+"
     ]
    }
   ],
   "source": [
    "show(waffle_sealion)"
   ]
  },
  {
   "cell_type": "code",
   "execution_count": 55,
   "metadata": {},
   "outputs": [
    {
     "data": {
      "text/plain": [
       "True"
      ]
     },
     "execution_count": 55,
     "metadata": {},
     "output_type": "execute_result"
    }
   ],
   "source": [
    "export_stl(waffle_sealion, \"waffle_sealion.stl\")"
   ]
  }
 ],
 "metadata": {
  "kernelspec": {
   "display_name": "default",
   "language": "python",
   "name": "python3"
  },
  "language_info": {
   "codemirror_mode": {
    "name": "ipython",
    "version": 3
   },
   "file_extension": ".py",
   "mimetype": "text/x-python",
   "name": "python",
   "nbconvert_exporter": "python",
   "pygments_lexer": "ipython3",
   "version": "3.12.2"
  }
 },
 "nbformat": 4,
 "nbformat_minor": 2
}
